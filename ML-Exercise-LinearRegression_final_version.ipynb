{
 "cells": [
  {
   "cell_type": "markdown",
   "metadata": {},
   "source": [
    "# CA684 Machine Learning Exercise 2 - Linear Regression"
   ]
  },
  {
   "cell_type": "markdown",
   "metadata": {},
   "source": [
    "In this exercise we'll implement simple linear regression using gradient descent and apply it to an example problem.  We'll also extend our implementation to handle multiple variables and apply it to a slightly more difficult example."
   ]
  },
  {
   "cell_type": "markdown",
   "metadata": {},
   "source": [
    "# Linear regression with one variable"
   ]
  },
  {
   "cell_type": "markdown",
   "metadata": {},
   "source": [
    "## In the first part of the exercise, we're tasked with implementing linear regression with one variable to predict house prices based on the per square foot area. Suppose you are a real estate agent are required to quote prices for houses based on their living room areas."
   ]
  },
  {
   "cell_type": "markdown",
   "metadata": {},
   "source": [
    "Let's start by importing some libraries and examining the data."
   ]
  },
  {
   "cell_type": "code",
   "execution_count": 953,
   "metadata": {
    "collapsed": false
   },
   "outputs": [],
   "source": [
    "import numpy as np\n",
    "import pandas as pd\n",
    "import math\n",
    "from scipy import stats\n",
    "import matplotlib.pyplot as plt\n",
    "%matplotlib inline\n",
    "from mpl_toolkits.mplot3d import Axes3D\n",
    "from scipy import ndimage\n",
    "import sklearn \n",
    "from sklearn.linear_model import LinearRegression \n",
    "from sklearn import preprocessing\n",
    "import pandas as pd \n",
    "from pandas import Series, DataFrame"
   ]
  },
  {
   "cell_type": "code",
   "execution_count": 954,
   "metadata": {
    "collapsed": false
   },
   "outputs": [
    {
     "data": {
      "text/html": [
       "<div>\n",
       "<table border=\"1\" class=\"dataframe\">\n",
       "  <thead>\n",
       "    <tr style=\"text-align: right;\">\n",
       "      <th></th>\n",
       "      <th>Area</th>\n",
       "      <th>Price</th>\n",
       "    </tr>\n",
       "  </thead>\n",
       "  <tbody>\n",
       "    <tr>\n",
       "      <th>0</th>\n",
       "      <td>6.1101</td>\n",
       "      <td>17.5920</td>\n",
       "    </tr>\n",
       "    <tr>\n",
       "      <th>1</th>\n",
       "      <td>5.5277</td>\n",
       "      <td>9.1302</td>\n",
       "    </tr>\n",
       "    <tr>\n",
       "      <th>2</th>\n",
       "      <td>8.5186</td>\n",
       "      <td>13.6620</td>\n",
       "    </tr>\n",
       "    <tr>\n",
       "      <th>3</th>\n",
       "      <td>7.0032</td>\n",
       "      <td>11.8540</td>\n",
       "    </tr>\n",
       "    <tr>\n",
       "      <th>4</th>\n",
       "      <td>5.8598</td>\n",
       "      <td>6.8233</td>\n",
       "    </tr>\n",
       "  </tbody>\n",
       "</table>\n",
       "</div>"
      ],
      "text/plain": [
       "     Area    Price\n",
       "0  6.1101  17.5920\n",
       "1  5.5277   9.1302\n",
       "2  8.5186  13.6620\n",
       "3  7.0032  11.8540\n",
       "4  5.8598   6.8233"
      ]
     },
     "execution_count": 954,
     "metadata": {},
     "output_type": "execute_result"
    }
   ],
   "source": [
    "import os\n",
    "path = 'ex1data1.txt' # set path of the data\n",
    "datai = pd.read_csv(path, header=None, names=['Area', 'Price']) # load data\n",
    "datai.head() # display some rows"
   ]
  },
  {
   "cell_type": "code",
   "execution_count": 955,
   "metadata": {
    "collapsed": false
   },
   "outputs": [
    {
     "data": {
      "text/html": [
       "<div>\n",
       "<table border=\"1\" class=\"dataframe\">\n",
       "  <thead>\n",
       "    <tr style=\"text-align: right;\">\n",
       "      <th></th>\n",
       "      <th>Area</th>\n",
       "      <th>Price</th>\n",
       "    </tr>\n",
       "  </thead>\n",
       "  <tbody>\n",
       "    <tr>\n",
       "      <th>count</th>\n",
       "      <td>97.000000</td>\n",
       "      <td>97.000000</td>\n",
       "    </tr>\n",
       "    <tr>\n",
       "      <th>mean</th>\n",
       "      <td>8.159800</td>\n",
       "      <td>5.839135</td>\n",
       "    </tr>\n",
       "    <tr>\n",
       "      <th>std</th>\n",
       "      <td>3.869884</td>\n",
       "      <td>5.510262</td>\n",
       "    </tr>\n",
       "    <tr>\n",
       "      <th>min</th>\n",
       "      <td>5.026900</td>\n",
       "      <td>-2.680700</td>\n",
       "    </tr>\n",
       "    <tr>\n",
       "      <th>25%</th>\n",
       "      <td>5.707700</td>\n",
       "      <td>1.986900</td>\n",
       "    </tr>\n",
       "    <tr>\n",
       "      <th>50%</th>\n",
       "      <td>6.589400</td>\n",
       "      <td>4.562300</td>\n",
       "    </tr>\n",
       "    <tr>\n",
       "      <th>75%</th>\n",
       "      <td>8.578100</td>\n",
       "      <td>7.046700</td>\n",
       "    </tr>\n",
       "    <tr>\n",
       "      <th>max</th>\n",
       "      <td>22.203000</td>\n",
       "      <td>24.147000</td>\n",
       "    </tr>\n",
       "  </tbody>\n",
       "</table>\n",
       "</div>"
      ],
      "text/plain": [
       "            Area      Price\n",
       "count  97.000000  97.000000\n",
       "mean    8.159800   5.839135\n",
       "std     3.869884   5.510262\n",
       "min     5.026900  -2.680700\n",
       "25%     5.707700   1.986900\n",
       "50%     6.589400   4.562300\n",
       "75%     8.578100   7.046700\n",
       "max    22.203000  24.147000"
      ]
     },
     "execution_count": 955,
     "metadata": {},
     "output_type": "execute_result"
    }
   ],
   "source": [
    "datai.describe()  # compute some basic stats, e.g., mean, median, mode etc."
   ]
  },
  {
   "cell_type": "markdown",
   "metadata": {},
   "source": [
    "Let's plot it to get a better idea of what the data looks like."
   ]
  },
  {
   "cell_type": "code",
   "execution_count": 956,
   "metadata": {
    "collapsed": false,
    "scrolled": true
   },
   "outputs": [
    {
     "data": {
      "text/plain": [
       "<matplotlib.axes._subplots.AxesSubplot at 0x7fb2882ee990>"
      ]
     },
     "execution_count": 956,
     "metadata": {},
     "output_type": "execute_result"
    },
    {
     "data": {
      "image/png": "[encoded data removed]",
      "text/plain": [
       "<matplotlib.figure.Figure at 0x7fb2883f3b90>"
      ]
     },
     "metadata": {},
     "output_type": "display_data"
    }
   ],
   "source": [
    "datai.plot(kind='scatter', x='Area', y='Price', figsize=(12,8))"
   ]
  },
  {
   "cell_type": "markdown",
   "metadata": {},
   "source": [
    "<b> Linear Regression Overview: </b>\n",
    "\n",
    "To establish notation for future use, we’ll use:\n",
    "<ul>\n",
    "<li>$x^i$ to denote the \"input\"\n",
    "features of $n$ dimensions ($x^i \\in \\mathcal{R}^n$) ($n=1$ here because we have only the living area in this example), \n",
    "</li>\n",
    "<li>\n",
    "$y^i$ ($y^i \\in \\mathcal{R}$)\n",
    "<li>\"output\" or target variable that we are trying to predict (in our example, price).\n",
    "</li>\n",
    "</ul>\n",
    "\n",
    "A pair $(x^i, y^i)$ is called a training example, and the dataset\n",
    "that we’ll be using to learn a list of m training examples $\\{(x^i, y^i); i =1,\\ldots ,m\\}$ is called a training set.\n",
    "\n",
    "Now let us try to describe a <b>model</b> that we'll try to fit this data, so that we can make\n",
    "predictions for unknown values of $x$s (called the test set).\n",
    "\n",
    "One way to represent the model is with the help of a function $h_\\theta$ (a function parameterized by $\\theta$).\n",
    "$$ h_{\\theta}(x) =  \\theta_0 + \\sum_{i=1}^{n} \\theta_i x_i $$\n",
    "\n",
    "Note that $\\theta_0$ is a term which doesn't pair up with any x component and is called the <b>bias</b> or the <b>intercept</b> term. Assuming $x$ to be a $n+1$ dimensional vector with $x_0=1$, we can write the model in vector format.\n",
    "\n",
    "$$ h_{\\theta}(x) = \\theta^T x, \\theta, x \\in \\mathcal{R}^n$$"
   ]
  },
  {
   "cell_type": "markdown",
   "metadata": {},
   "source": [
    "<b> Training the Model </b>\n",
    "\n",
    "A reasonable approach would be to get this line (hyper-plane in $n$ dimensions) to be as close as possible to the given points. In other words we may look to minimize the squared differences between the predicted values (estimated by the model) and the true values (given).\n",
    "\n",
    "$$J(\\theta) = \\frac{1}{2} \\sum_{i=1}^{m} (h_\\theta(x^i) - y^i)^2$$\n",
    "\n",
    "The learning rule that we apply is called the <b>Gradient Descent</b> where we descend down the steepest slope at any given point:\n",
    "\n",
    "$$ \\theta_j = \\theta_j - \\alpha \\frac{\\partial }{\\partial \\theta_j} J(\\theta)$$\n",
    "\n",
    "With elementary calculus, considering only one training example $(x,y), $we compute:\n",
    "$$\\frac{\\partial }{\\partial \\theta_j} J(\\theta) = \\sum_{j=1}^{m}(h_\\theta(x)-y)x_j$$\n",
    "\n",
    "Hence, for a single training example,\n",
    "$$ \\theta_j = \\theta_j - \\alpha (h_\\theta(x)-y)x_j$$\n",
    "\n",
    "This is called <b> Stochastic Gradient Descent</b>.\n",
    "\n",
    "<pre>\n",
    "    Loop N iterations {\n",
    "        for i=1 to m, {\n",
    "            for j=0 to n {\n",
    "                theta[j] = theta[j] + alpha (y[i] − h(x[i]) * x[i][j]\n",
    "            }\n",
    "        }\n",
    "    }\n",
    "</pre>"
   ]
  },
  {
   "cell_type": "markdown",
   "metadata": {},
   "source": [
    "<b> Python Implementation </b>\n",
    "\n",
    "Now for some hands-on coding:\n",
    "\n",
    "First we'll create a function to compute the cost of a given solution (characterized by the parameters theta)."
   ]
  },
  {
   "cell_type": "code",
   "execution_count": 957,
   "metadata": {
    "collapsed": false
   },
   "outputs": [],
   "source": [
    "def computeCost(X, y, theta):\n",
    "    inner = np.power(((X * theta.T) - y), 2) # X, theta are vectors, .T is the transpose operator, y is a real\n",
    "    return np.sum(inner) / (2 * len(X))"
   ]
  },
  {
   "cell_type": "markdown",
   "metadata": {},
   "source": [
    "Let's add a column of ones to the training set so we can use a vectorized solution to computing the cost and gradients."
   ]
  },
  {
   "cell_type": "code",
   "execution_count": 958,
   "metadata": {
    "collapsed": false
   },
   "outputs": [],
   "source": [
    "data = datai\n",
    "data.insert(0, 'Ones', 1)\n"
   ]
  },
  {
   "cell_type": "markdown",
   "metadata": {},
   "source": [
    "Now let's do some variable initialization."
   ]
  },
  {
   "cell_type": "code",
   "execution_count": 959,
   "metadata": {
    "collapsed": false
   },
   "outputs": [],
   "source": [
    "# set X (training data) and y (target variable)\n",
    "cols = data.shape[1]\n",
    "X = data.iloc[:,0:cols-1] # extract out and merge columns 0...n-2 corresponds to xs and n-1 corresponds to y\n",
    "y = data.iloc[:,cols-1:cols]"
   ]
  },
  {
   "cell_type": "markdown",
   "metadata": {},
   "source": [
    "Let's take a look to make sure X (training set) and y (target variable) look correct."
   ]
  },
  {
   "cell_type": "code",
   "execution_count": 960,
   "metadata": {
    "collapsed": false
   },
   "outputs": [
    {
     "data": {
      "text/html": [
       "<div>\n",
       "<table border=\"1\" class=\"dataframe\">\n",
       "  <thead>\n",
       "    <tr style=\"text-align: right;\">\n",
       "      <th></th>\n",
       "      <th>Ones</th>\n",
       "      <th>Area</th>\n",
       "    </tr>\n",
       "  </thead>\n",
       "  <tbody>\n",
       "    <tr>\n",
       "      <th>0</th>\n",
       "      <td>1</td>\n",
       "      <td>6.1101</td>\n",
       "    </tr>\n",
       "    <tr>\n",
       "      <th>1</th>\n",
       "      <td>1</td>\n",
       "      <td>5.5277</td>\n",
       "    </tr>\n",
       "    <tr>\n",
       "      <th>2</th>\n",
       "      <td>1</td>\n",
       "      <td>8.5186</td>\n",
       "    </tr>\n",
       "    <tr>\n",
       "      <th>3</th>\n",
       "      <td>1</td>\n",
       "      <td>7.0032</td>\n",
       "    </tr>\n",
       "    <tr>\n",
       "      <th>4</th>\n",
       "      <td>1</td>\n",
       "      <td>5.8598</td>\n",
       "    </tr>\n",
       "  </tbody>\n",
       "</table>\n",
       "</div>"
      ],
      "text/plain": [
       "   Ones    Area\n",
       "0     1  6.1101\n",
       "1     1  5.5277\n",
       "2     1  8.5186\n",
       "3     1  7.0032\n",
       "4     1  5.8598"
      ]
     },
     "execution_count": 960,
     "metadata": {},
     "output_type": "execute_result"
    }
   ],
   "source": [
    "X.head()"
   ]
  },
  {
   "cell_type": "code",
   "execution_count": 961,
   "metadata": {
    "collapsed": false
   },
   "outputs": [
    {
     "data": {
      "text/html": [
       "<div>\n",
       "<table border=\"1\" class=\"dataframe\">\n",
       "  <thead>\n",
       "    <tr style=\"text-align: right;\">\n",
       "      <th></th>\n",
       "      <th>Price</th>\n",
       "    </tr>\n",
       "  </thead>\n",
       "  <tbody>\n",
       "    <tr>\n",
       "      <th>0</th>\n",
       "      <td>17.5920</td>\n",
       "    </tr>\n",
       "    <tr>\n",
       "      <th>1</th>\n",
       "      <td>9.1302</td>\n",
       "    </tr>\n",
       "    <tr>\n",
       "      <th>2</th>\n",
       "      <td>13.6620</td>\n",
       "    </tr>\n",
       "    <tr>\n",
       "      <th>3</th>\n",
       "      <td>11.8540</td>\n",
       "    </tr>\n",
       "    <tr>\n",
       "      <th>4</th>\n",
       "      <td>6.8233</td>\n",
       "    </tr>\n",
       "  </tbody>\n",
       "</table>\n",
       "</div>"
      ],
      "text/plain": [
       "     Price\n",
       "0  17.5920\n",
       "1   9.1302\n",
       "2  13.6620\n",
       "3  11.8540\n",
       "4   6.8233"
      ]
     },
     "execution_count": 961,
     "metadata": {},
     "output_type": "execute_result"
    }
   ],
   "source": [
    "y.head()"
   ]
  },
  {
   "cell_type": "markdown",
   "metadata": {},
   "source": [
    "The cost function is expecting numpy matrices so we need to convert X and y before we can use them.  We also need to initialize theta."
   ]
  },
  {
   "cell_type": "code",
   "execution_count": 962,
   "metadata": {
    "collapsed": false
   },
   "outputs": [],
   "source": [
    "X = np.matrix(X.values)\n",
    "y = np.matrix(y.values)\n",
    "theta = np.matrix(np.array([0,0]))"
   ]
  },
  {
   "cell_type": "markdown",
   "metadata": {},
   "source": [
    "Here's what theta looks like."
   ]
  },
  {
   "cell_type": "code",
   "execution_count": 963,
   "metadata": {
    "collapsed": false
   },
   "outputs": [
    {
     "data": {
      "text/plain": [
       "matrix([[0, 0]])"
      ]
     },
     "execution_count": 963,
     "metadata": {},
     "output_type": "execute_result"
    }
   ],
   "source": [
    "theta"
   ]
  },
  {
   "cell_type": "markdown",
   "metadata": {},
   "source": [
    "Let's take a quick look at the shape of our matrices."
   ]
  },
  {
   "cell_type": "code",
   "execution_count": 964,
   "metadata": {
    "collapsed": false
   },
   "outputs": [
    {
     "data": {
      "text/plain": [
       "((97, 2), (1, 2), (97, 1))"
      ]
     },
     "execution_count": 964,
     "metadata": {},
     "output_type": "execute_result"
    }
   ],
   "source": [
    "X.shape, theta.shape, y.shape"
   ]
  },
  {
   "cell_type": "markdown",
   "metadata": {},
   "source": [
    "Note that m=97, n=1 (n+1 = 2 due to the added dimension)\n",
    "\n",
    "Now let's compute the cost for our initial solution (0 values for theta)."
   ]
  },
  {
   "cell_type": "code",
   "execution_count": 965,
   "metadata": {
    "collapsed": false
   },
   "outputs": [
    {
     "data": {
      "text/plain": [
       "32.072733877455676"
      ]
     },
     "execution_count": 965,
     "metadata": {},
     "output_type": "execute_result"
    }
   ],
   "source": [
    "computeCost(X, y, theta)"
   ]
  },
  {
   "cell_type": "markdown",
   "metadata": {},
   "source": [
    "So far so good.  Now we need to define a function to perform gradient descent on the parameters theta using the update rules defined in the text."
   ]
  },
  {
   "cell_type": "code",
   "execution_count": 966,
   "metadata": {
    "collapsed": false
   },
   "outputs": [],
   "source": [
    "def gradientDescent(X, y, theta, alpha, iters):\n",
    "    temp = np.matrix(np.zeros(theta.shape)) # 0 matrix for initialization\n",
    "    parameters = int(theta.ravel().shape[1]) # convert to 1D vector from matrix\n",
    "    cost = np.zeros(iters) # would be useful for plotting the cost value per iteration\n",
    "    \n",
    "    for i in range(iters):\n",
    "        error = (X * theta.T) - y # 97x2 2x1 = 97x1 (matches with y dimension)\n",
    "        \n",
    "        for j in range(parameters):\n",
    "            term = np.multiply(error, X[:,j]) # element wise multiplication\n",
    "            temp[0,j] = theta[0,j] - ((alpha / len(X)) * np.sum(term))\n",
    "            theta = temp\n",
    "            cost[i] = computeCost(X, y, theta)\n",
    "        \n",
    "    return theta, cost"
   ]
  },
  {
   "cell_type": "markdown",
   "metadata": {},
   "source": [
    "Initialize some additional variables - the learning rate alpha, and the number of iterations to perform."
   ]
  },
  {
   "cell_type": "code",
   "execution_count": 967,
   "metadata": {
    "collapsed": false
   },
   "outputs": [],
   "source": [
    "alpha = 0.01  # the learning rate\n",
    "iters = 1000  # number of iterations"
   ]
  },
  {
   "cell_type": "markdown",
   "metadata": {},
   "source": [
    "Now let's run the gradient descent algorithm to fit our parameters theta to the training set."
   ]
  },
  {
   "cell_type": "code",
   "execution_count": 968,
   "metadata": {
    "collapsed": false
   },
   "outputs": [
    {
     "data": {
      "text/plain": [
       "matrix([[-3.24140214,  1.1272942 ]])"
      ]
     },
     "execution_count": 968,
     "metadata": {},
     "output_type": "execute_result"
    }
   ],
   "source": [
    "g, cost = gradientDescent(X, y, theta, alpha, iters)\n",
    "g"
   ]
  },
  {
   "cell_type": "markdown",
   "metadata": {},
   "source": [
    "Finally we can compute the cost (error) of the trained model using our fitted parameters."
   ]
  },
  {
   "cell_type": "code",
   "execution_count": 969,
   "metadata": {
    "collapsed": false
   },
   "outputs": [
    {
     "data": {
      "text/plain": [
       "4.5159555030789118"
      ]
     },
     "execution_count": 969,
     "metadata": {},
     "output_type": "execute_result"
    }
   ],
   "source": [
    "computeCost(X, y, g)"
   ]
  },
  {
   "cell_type": "markdown",
   "metadata": {},
   "source": [
    "Now let's plot the linear model along with the data to visually see how well it fits."
   ]
  },
  {
   "cell_type": "code",
   "execution_count": 970,
   "metadata": {
    "collapsed": false
   },
   "outputs": [
    {
     "data": {
      "text/plain": [
       "<matplotlib.text.Text at 0x7fb28818c510>"
      ]
     },
     "execution_count": 970,
     "metadata": {},
     "output_type": "execute_result"
    },
    {
     "data": {
      "image/png": "[encoded data removed]",
      "text/plain": [
       "<matplotlib.figure.Figure at 0x7fb2886d6410>"
      ]
     },
     "metadata": {},
     "output_type": "display_data"
    }
   ],
   "source": [
    "x = np.linspace(data.Area.min(), data.Area.max(), 100)\n",
    "interceptu = g[0, 0] \n",
    "slopeu = g[0, 1]\n",
    "f = interceptu + (slopeu * x)\n",
    "fig, ax = plt.subplots(figsize=(12,8))\n",
    "ax.plot(x, f, 'r', label='Predicted Price')\n",
    "ax.scatter(data.Area, data.Price, label='Traning Data')\n",
    "ax.legend(loc=2)\n",
    "ax.set_xlabel('Area')\n",
    "ax.set_ylabel('Price')\n",
    "ax.set_title('Predicted price vs. Area')"
   ]
  },
  {
   "cell_type": "markdown",
   "metadata": {},
   "source": [
    "Looks pretty good!  Since the gradient decent function also outputs a vector with the cost at each training iteration, we can plot that as well.  Notice that the cost always decreases - this is an example of a convex optimization problem."
   ]
  },
  {
   "cell_type": "code",
   "execution_count": 971,
   "metadata": {
    "collapsed": false
   },
   "outputs": [
    {
     "data": {
      "text/plain": [
       "<matplotlib.text.Text at 0x7fb2880bb2d0>"
      ]
     },
     "execution_count": 971,
     "metadata": {},
     "output_type": "execute_result"
    },
    {
     "data": {
      "image/png": "[encoded data removed]",
      "text/plain": [
       "<matplotlib.figure.Figure at 0x7fb2882de290>"
      ]
     },
     "metadata": {},
     "output_type": "display_data"
    }
   ],
   "source": [
    "fig, ax = plt.subplots(figsize=(12,8))\n",
    "ax.plot(np.arange(iters), cost, 'r')\n",
    "ax.set_xlabel('Iterations')\n",
    "ax.set_ylabel('Cost')\n",
    "ax.set_title('Error vs. Training Epoch')"
   ]
  },
  {
   "cell_type": "markdown",
   "metadata": {},
   "source": [
    "# Assignment: Linear regression with multiple variables"
   ]
  },
  {
   "cell_type": "markdown",
   "metadata": {},
   "source": [
    "You're given a new data file which has \"the number of bedrooms\" as an additional factor determining the price of a house.\n",
    "Your job is to rerun the Linear regression code and predict the house prices with this additional factor.\n",
    "The name of the file is ex1data2.txt"
   ]
  },
  {
   "cell_type": "markdown",
   "metadata": {},
   "source": [
    "For this task we add another pre-processing step - normalizing the features.  This is very easy with pandas."
   ]
  },
  {
   "cell_type": "markdown",
   "metadata": {},
   "source": [
    "Rerun the linear regression code on this new dataset and report the cost value. Plot the iterations vs. cost graph as well."
   ]
  },
  {
   "cell_type": "markdown",
   "metadata": {},
   "source": [
    "We can take a quick look at the training progess for this one as well."
   ]
  },
  {
   "cell_type": "markdown",
   "metadata": {},
   "source": [
    "Instead of implementing these algorithms from scratch, you could also use scikit-learn's linear regression function. \n",
    "The next part of the execrcise asks you to repeat the linear regression process on the two datasets, this time using python's built-in function instead of using your own version. Compare the solutions."
   ]
  },
  {
   "cell_type": "markdown",
   "metadata": {},
   "source": [
    "# Multivariate regression"
   ]
  },
  {
   "cell_type": "markdown",
   "metadata": {},
   "source": [
    "In that first step of the exercise, we imported the second data set comprising the extra column of the number of rooms. Then, we showed some summary statistics of the dataset, noticing that this time, it contains 47 observations. "
   ]
  },
  {
   "cell_type": "code",
   "execution_count": 972,
   "metadata": {
    "collapsed": false
   },
   "outputs": [
    {
     "data": {
      "text/html": [
       "<div>\n",
       "<table border=\"1\" class=\"dataframe\">\n",
       "  <thead>\n",
       "    <tr style=\"text-align: right;\">\n",
       "      <th></th>\n",
       "      <th>Area</th>\n",
       "      <th>Number Of Rooms</th>\n",
       "      <th>Price</th>\n",
       "    </tr>\n",
       "  </thead>\n",
       "  <tbody>\n",
       "    <tr>\n",
       "      <th>0</th>\n",
       "      <td>2104</td>\n",
       "      <td>3</td>\n",
       "      <td>399900</td>\n",
       "    </tr>\n",
       "    <tr>\n",
       "      <th>1</th>\n",
       "      <td>1600</td>\n",
       "      <td>3</td>\n",
       "      <td>329900</td>\n",
       "    </tr>\n",
       "    <tr>\n",
       "      <th>2</th>\n",
       "      <td>2400</td>\n",
       "      <td>3</td>\n",
       "      <td>369000</td>\n",
       "    </tr>\n",
       "    <tr>\n",
       "      <th>3</th>\n",
       "      <td>1416</td>\n",
       "      <td>2</td>\n",
       "      <td>232000</td>\n",
       "    </tr>\n",
       "    <tr>\n",
       "      <th>4</th>\n",
       "      <td>3000</td>\n",
       "      <td>4</td>\n",
       "      <td>539900</td>\n",
       "    </tr>\n",
       "  </tbody>\n",
       "</table>\n",
       "</div>"
      ],
      "text/plain": [
       "   Area  Number Of Rooms   Price\n",
       "0  2104                3  399900\n",
       "1  1600                3  329900\n",
       "2  2400                3  369000\n",
       "3  1416                2  232000\n",
       "4  3000                4  539900"
      ]
     },
     "execution_count": 972,
     "metadata": {},
     "output_type": "execute_result"
    }
   ],
   "source": [
    "#importing the second dataset \n",
    "houses = pd.read_csv(\"ex1data2.txt\",header=None, names=['Area','Number Of Rooms', 'Price'])\n",
    "housesdf = DataFrame(houses)\n",
    "housesdf.head()"
   ]
  },
  {
   "cell_type": "code",
   "execution_count": 973,
   "metadata": {
    "collapsed": false
   },
   "outputs": [
    {
     "data": {
      "text/html": [
       "<div>\n",
       "<table border=\"1\" class=\"dataframe\">\n",
       "  <thead>\n",
       "    <tr style=\"text-align: right;\">\n",
       "      <th></th>\n",
       "      <th>Area</th>\n",
       "      <th>Number Of Rooms</th>\n",
       "      <th>Price</th>\n",
       "    </tr>\n",
       "  </thead>\n",
       "  <tbody>\n",
       "    <tr>\n",
       "      <th>count</th>\n",
       "      <td>47.000000</td>\n",
       "      <td>47.000000</td>\n",
       "      <td>47.000000</td>\n",
       "    </tr>\n",
       "    <tr>\n",
       "      <th>mean</th>\n",
       "      <td>2000.680851</td>\n",
       "      <td>3.170213</td>\n",
       "      <td>340412.659574</td>\n",
       "    </tr>\n",
       "    <tr>\n",
       "      <th>std</th>\n",
       "      <td>794.702354</td>\n",
       "      <td>0.760982</td>\n",
       "      <td>125039.899586</td>\n",
       "    </tr>\n",
       "    <tr>\n",
       "      <th>min</th>\n",
       "      <td>852.000000</td>\n",
       "      <td>1.000000</td>\n",
       "      <td>169900.000000</td>\n",
       "    </tr>\n",
       "    <tr>\n",
       "      <th>25%</th>\n",
       "      <td>1432.000000</td>\n",
       "      <td>3.000000</td>\n",
       "      <td>249900.000000</td>\n",
       "    </tr>\n",
       "    <tr>\n",
       "      <th>50%</th>\n",
       "      <td>1888.000000</td>\n",
       "      <td>3.000000</td>\n",
       "      <td>299900.000000</td>\n",
       "    </tr>\n",
       "    <tr>\n",
       "      <th>75%</th>\n",
       "      <td>2269.000000</td>\n",
       "      <td>4.000000</td>\n",
       "      <td>384450.000000</td>\n",
       "    </tr>\n",
       "    <tr>\n",
       "      <th>max</th>\n",
       "      <td>4478.000000</td>\n",
       "      <td>5.000000</td>\n",
       "      <td>699900.000000</td>\n",
       "    </tr>\n",
       "  </tbody>\n",
       "</table>\n",
       "</div>"
      ],
      "text/plain": [
       "              Area  Number Of Rooms          Price\n",
       "count    47.000000        47.000000      47.000000\n",
       "mean   2000.680851         3.170213  340412.659574\n",
       "std     794.702354         0.760982  125039.899586\n",
       "min     852.000000         1.000000  169900.000000\n",
       "25%    1432.000000         3.000000  249900.000000\n",
       "50%    1888.000000         3.000000  299900.000000\n",
       "75%    2269.000000         4.000000  384450.000000\n",
       "max    4478.000000         5.000000  699900.000000"
      ]
     },
     "execution_count": 973,
     "metadata": {},
     "output_type": "execute_result"
    }
   ],
   "source": [
    "housesdf.describe()"
   ]
  },
  {
   "cell_type": "markdown",
   "metadata": {},
   "source": [
    "## Normalization"
   ]
  },
  {
   "cell_type": "markdown",
   "metadata": {
    "collapsed": true
   },
   "source": [
    "Here we normalized the data in order to fit it to a [-1, 1] interval. In order to do this, we used the min_max_scaler method from sklearn.preprocessing. "
   ]
  },
  {
   "cell_type": "code",
   "execution_count": 974,
   "metadata": {
    "collapsed": false
   },
   "outputs": [
    {
     "name": "stderr",
     "output_type": "stream",
     "text": [
      "/home/kevin/anaconda/lib/python2.7/site-packages/sklearn/utils/validation.py:420: DataConversionWarning: Data with input dtype int64 was converted to float64 by MinMaxScaler.\n",
      "  warnings.warn(msg, DataConversionWarning)\n"
     ]
    },
    {
     "data": {
      "text/html": [
       "<div>\n",
       "<table border=\"1\" class=\"dataframe\">\n",
       "  <thead>\n",
       "    <tr style=\"text-align: right;\">\n",
       "      <th></th>\n",
       "      <th>Area</th>\n",
       "      <th>Number Of Rooms</th>\n",
       "      <th>Price</th>\n",
       "    </tr>\n",
       "  </thead>\n",
       "  <tbody>\n",
       "    <tr>\n",
       "      <th>0</th>\n",
       "      <td>0.345284</td>\n",
       "      <td>0.50</td>\n",
       "      <td>0.433962</td>\n",
       "    </tr>\n",
       "    <tr>\n",
       "      <th>1</th>\n",
       "      <td>0.206288</td>\n",
       "      <td>0.50</td>\n",
       "      <td>0.301887</td>\n",
       "    </tr>\n",
       "    <tr>\n",
       "      <th>2</th>\n",
       "      <td>0.426917</td>\n",
       "      <td>0.50</td>\n",
       "      <td>0.375660</td>\n",
       "    </tr>\n",
       "    <tr>\n",
       "      <th>3</th>\n",
       "      <td>0.155543</td>\n",
       "      <td>0.25</td>\n",
       "      <td>0.117170</td>\n",
       "    </tr>\n",
       "    <tr>\n",
       "      <th>4</th>\n",
       "      <td>0.592388</td>\n",
       "      <td>0.75</td>\n",
       "      <td>0.698113</td>\n",
       "    </tr>\n",
       "  </tbody>\n",
       "</table>\n",
       "</div>"
      ],
      "text/plain": [
       "       Area   Number Of Rooms     Price\n",
       "0  0.345284              0.50  0.433962\n",
       "1  0.206288              0.50  0.301887\n",
       "2  0.426917              0.50  0.375660\n",
       "3  0.155543              0.25  0.117170\n",
       "4  0.592388              0.75  0.698113"
      ]
     },
     "execution_count": 974,
     "metadata": {},
     "output_type": "execute_result"
    }
   ],
   "source": [
    "x = housesdf.values #returns a numpy array\n",
    "min_max_scaler = preprocessing.MinMaxScaler()\n",
    "x_scaled = min_max_scaler.fit_transform(x)\n",
    "housesdf_norm = pd.DataFrame(x_scaled,columns=[\"Area\",\" Number Of Rooms\",\"Price\"])\n",
    "housesdf_norm1 = housesdf_norm\n",
    "housesdf_norm.head()"
   ]
  },
  {
   "cell_type": "code",
   "execution_count": 975,
   "metadata": {
    "collapsed": true
   },
   "outputs": [],
   "source": [
    "housesdf_norm.insert(0, 'Ones', 1)"
   ]
  },
  {
   "cell_type": "markdown",
   "metadata": {},
   "source": [
    "Here we computed the cost for our initial solution (0 values for theta) by using the already implemented functions. "
   ]
  },
  {
   "cell_type": "markdown",
   "metadata": {},
   "source": [
    "## Running the multivariate regression"
   ]
  },
  {
   "cell_type": "markdown",
   "metadata": {},
   "source": [
    "We set the explanatory and response variables and used the preceding computeCost function to get the actual cost value of the model with initial theta parameters of value 0. "
   ]
  },
  {
   "cell_type": "code",
   "execution_count": 976,
   "metadata": {
    "collapsed": false
   },
   "outputs": [
    {
     "data": {
      "text/plain": [
       "3.7125553061712355"
      ]
     },
     "execution_count": 976,
     "metadata": {},
     "output_type": "execute_result"
    }
   ],
   "source": [
    "#set explanatory and response variables\n",
    "X1 = housesdf_norm.drop(\"Price\",1)\n",
    "y1 = housesdf_norm.Price\n",
    "X1m = np.matrix(X1.values)\n",
    "y1m = np.matrix(y1.values)\n",
    "theta1 = np.matrix(np.array([0,0,0]))#one more parameter\n",
    "computeCost(X1m, y1m, theta1)"
   ]
  },
  {
   "cell_type": "markdown",
   "metadata": {},
   "source": [
    "We ran again the gradient descent algorithm to fit our parameters theta to the training set."
   ]
  },
  {
   "cell_type": "code",
   "execution_count": 977,
   "metadata": {
    "collapsed": true
   },
   "outputs": [],
   "source": [
    "alpha1 = 0.001\n",
    "iters1 = 1000"
   ]
  },
  {
   "cell_type": "markdown",
   "metadata": {},
   "source": [
    "We verified the dimensions of our variables in order not to return absurd results from a matrix multiplication. "
   ]
  },
  {
   "cell_type": "code",
   "execution_count": 978,
   "metadata": {
    "collapsed": false
   },
   "outputs": [
    {
     "data": {
      "text/plain": [
       "((1, 3), (47, 3), (1, 47))"
      ]
     },
     "execution_count": 978,
     "metadata": {},
     "output_type": "execute_result"
    }
   ],
   "source": [
    "theta1.shape, X1m.shape, y1m.shape"
   ]
  },
  {
   "cell_type": "code",
   "execution_count": 979,
   "metadata": {
    "collapsed": false
   },
   "outputs": [
    {
     "data": {
      "text/plain": [
       "matrix([[ 0.30420596, -0.00884023,  0.03646272]])"
      ]
     },
     "execution_count": 979,
     "metadata": {},
     "output_type": "execute_result"
    }
   ],
   "source": [
    "g1, cost1 = gradientDescent(X1m, y1m, theta1, alpha1, iters1)\n",
    "g1"
   ]
  },
  {
   "cell_type": "markdown",
   "metadata": {},
   "source": [
    "And we computed the cost (error) of the trained model using our fitted parameters."
   ]
  },
  {
   "cell_type": "code",
   "execution_count": 980,
   "metadata": {
    "collapsed": false
   },
   "outputs": [
    {
     "name": "stdout",
     "output_type": "stream",
     "text": [
      "The cost after applying gradient descent algorithm is :\n",
      "\n"
     ]
    },
    {
     "data": {
      "text/plain": [
       "1.2810403489610249"
      ]
     },
     "execution_count": 980,
     "metadata": {},
     "output_type": "execute_result"
    }
   ],
   "source": [
    "print 'The cost after applying gradient descent algorithm is :\\n'  \n",
    "computeCost(X1m, y1m, g1)"
   ]
  },
  {
   "cell_type": "markdown",
   "metadata": {},
   "source": [
    "We also plotted the graph of the cost function against the number of iterations of the gradient descent algorithm and noticed that this time too, the cost decreased and was characteristic of a convex optimization problem."
   ]
  },
  {
   "cell_type": "code",
   "execution_count": 981,
   "metadata": {
    "collapsed": false
   },
   "outputs": [
    {
     "data": {
      "text/plain": [
       "<matplotlib.text.Text at 0x7fb283fc82d0>"
      ]
     },
     "execution_count": 981,
     "metadata": {},
     "output_type": "execute_result"
    },
    {
     "data": {
      "image/png": "[encoded data removed]",
      "text/plain": [
       "<matplotlib.figure.Figure at 0x7fb28823cf50>"
      ]
     },
     "metadata": {},
     "output_type": "display_data"
    }
   ],
   "source": [
    "fig, ax = plt.subplots(figsize=(12,8))\n",
    "ax.plot(np.arange(iters), cost1, 'r')\n",
    "ax.set_xlabel('Iterations')\n",
    "ax.set_ylabel('Cost')\n",
    "ax.set_title('Error vs. Training Epoch')"
   ]
  },
  {
   "cell_type": "markdown",
   "metadata": {},
   "source": [
    "In the following, we tried to fit a model with the data using sklearn library and assessed whether the model was a good fit to our data, i.e. if the linear model could be used to describe the data and later allow us to make predictions. "
   ]
  },
  {
   "cell_type": "markdown",
   "metadata": {},
   "source": [
    "# Univariate regression with scikit-learn"
   ]
  },
  {
   "cell_type": "markdown",
   "metadata": {},
   "source": [
    "Using sklearn to fit a model to our data was really handy and comprised 2 to 3 steps: \n",
    "<ol>\n",
    "    <li>Creation of a Linear Regression object with LinearRegression()</li>\n",
    "    <li>Use of the fit() function to fit the model</li>\n",
    "    <li>Retrieve the estimated intercept and slope with intercept_ and the array coef_</li>\n",
    "</ol>"
   ]
  },
  {
   "cell_type": "code",
   "execution_count": 982,
   "metadata": {
    "collapsed": true
   },
   "outputs": [],
   "source": [
    "#create a linear regression object\n",
    "linalgu = LinearRegression()"
   ]
  },
  {
   "cell_type": "code",
   "execution_count": 983,
   "metadata": {
    "collapsed": false
   },
   "outputs": [
    {
     "name": "stdout",
     "output_type": "stream",
     "text": [
      "Estimated intercept coefficient = -3.895781\n",
      "Estimated Slope= 1.193034\n"
     ]
    }
   ],
   "source": [
    "#fit a linear regression model to the data and displaying estimated coefficients \n",
    "Xu = datai.drop(\"Price\",1)\n",
    "yu = datai.Price\n",
    "\n",
    "#getting and storing estimator values\n",
    "linalgu.fit(Xu, yu)\n",
    "interceptsku = linalgu.intercept_ \n",
    "slopesku = linalgu.coef_[1]\n",
    "\n",
    "print 'Estimated intercept coefficient = %f\\nEstimated Slope= %f' % (interceptsku , slopesku )"
   ]
  },
  {
   "cell_type": "markdown",
   "metadata": {},
   "source": [
    "The following function score returns the coefficient of correlation $R²$ = 0.70 which indicates that our linear regression model is a good fit to the data. "
   ]
  },
  {
   "cell_type": "code",
   "execution_count": 984,
   "metadata": {
    "collapsed": false
   },
   "outputs": [
    {
     "data": {
      "text/plain": [
       "0.70203155378413973"
      ]
     },
     "execution_count": 984,
     "metadata": {},
     "output_type": "execute_result"
    }
   ],
   "source": [
    "linalgu.score(Xu, yu)"
   ]
  },
  {
   "cell_type": "markdown",
   "metadata": {},
   "source": [
    "In order to compare the parameter values obtained from scikit-learn to the ones obtained from scratch, we computed the relative differences: "
   ]
  },
  {
   "cell_type": "code",
   "execution_count": 985,
   "metadata": {
    "collapsed": false
   },
   "outputs": [],
   "source": [
    "delta1 = math.fabs(interceptu  - interceptsku )/math.fabs(interceptsku )\n",
    "delta2 = math.fabs(slopeu - slopesku)/math.fabs(slopesku)"
   ]
  },
  {
   "cell_type": "code",
   "execution_count": 986,
   "metadata": {
    "collapsed": false
   },
   "outputs": [
    {
     "name": "stdout",
     "output_type": "stream",
     "text": [
      "The relative difference between intercepts is 16.797113 % \n",
      "\n",
      "The relative difference between slopes is 5.510276 %\n"
     ]
    }
   ],
   "source": [
    "print 'The relative difference between intercepts is %f %% \\n' % (delta1 * 100)\n",
    "print 'The relative difference between slopes is %f %%' % (delta2 * 100)"
   ]
  },
  {
   "cell_type": "markdown",
   "metadata": {},
   "source": [
    "Hence, sklearn offered a convenient way for obtaining estimators thanks to the one single step of using the fit() function. "
   ]
  },
  {
   "cell_type": "markdown",
   "metadata": {},
   "source": [
    "# Multivariate regression with scikit learn "
   ]
  },
  {
   "cell_type": "markdown",
   "metadata": {},
   "source": [
    "Here we carried out the same steps as for the univariate regression with sklearn:"
   ]
  },
  {
   "cell_type": "code",
   "execution_count": 987,
   "metadata": {
    "collapsed": false
   },
   "outputs": [],
   "source": [
    "#create a linear regression object \n",
    "linalg = LinearRegression()\n"
   ]
  },
  {
   "cell_type": "markdown",
   "metadata": {},
   "source": [
    "With sklearn, it only takes one step to do our linear regression. "
   ]
  },
  {
   "cell_type": "code",
   "execution_count": 988,
   "metadata": {
    "collapsed": false
   },
   "outputs": [
    {
     "name": "stdout",
     "output_type": "stream",
     "text": [
      "Estimated intercept coefficient = 0.055788\n",
      "Area Feature = 0.952411 \n",
      "Number of rooms feature = -0.065947\n"
     ]
    }
   ],
   "source": [
    "# getting and swaving estimators\n",
    "linalg.fit(X1, y1)\n",
    "interceptskm = linalg.intercept_  \n",
    "coeffskm1 = linalg.coef_[1]\n",
    "coeffskm2 = linalg.coef_[2]\n",
    "\n",
    "print 'Estimated intercept coefficient = %f\\nArea Feature = %f \\nNumber of rooms feature = %f' % (interceptskm, coeffskm1,coeffskm2)"
   ]
  },
  {
   "cell_type": "markdown",
   "metadata": {},
   "source": [
    "Let's compare features obtained from sklearn and the ones obtained from \"scratch\". "
   ]
  },
  {
   "cell_type": "markdown",
   "metadata": {},
   "source": [
    "With $R²$ = 0.73, we can assert that our multivariate regression model is a good fit to the data. "
   ]
  },
  {
   "cell_type": "code",
   "execution_count": 989,
   "metadata": {
    "collapsed": false
   },
   "outputs": [
    {
     "data": {
      "text/plain": [
       "0.73294501802891432"
      ]
     },
     "execution_count": 989,
     "metadata": {},
     "output_type": "execute_result"
    }
   ],
   "source": [
    "linalg.score(X1, y1)"
   ]
  },
  {
   "cell_type": "code",
   "execution_count": 990,
   "metadata": {
    "collapsed": false
   },
   "outputs": [
    {
     "name": "stdout",
     "output_type": "stream",
     "text": [
      "The relative difference between intercepts is 81.661267 % \n",
      "The relative difference between feature Area is 99.071805 %\n",
      "The relative difference between feature Number of rooms is 44.709318 %\n"
     ]
    }
   ],
   "source": [
    "interceptm = 0.30420596  \n",
    "coeffm1 = -0.00884023\n",
    "coeffm2 = 0.03646272\n",
    "\n",
    "delta3 = math.fabs(interceptm  - interceptskm )/math.fabs(interceptm )\n",
    "delta4 = math.fabs(coeffm1 + coeffskm1)/math.fabs(coeffskm1)\n",
    "delta5 = math.fabs(coeffm2 + coeffskm2)/math.fabs(coeffskm2)\n",
    "\n",
    "print 'The relative difference between intercepts is %f %% ' % (delta3 * 100)\n",
    "print 'The relative difference between feature Area is %f %%' % (delta4 * 100)\n",
    "print 'The relative difference between feature Number of rooms is %f %%' % (delta5 * 100)"
   ]
  },
  {
   "cell_type": "markdown",
   "metadata": {},
   "source": [
    "There's more difference between the parameters obtained from scratch and  the one with sklearn than in the univariate regression. Sklearn returns coefficients used to build up the following linear regression equation: \n",
    "$$ Price = 0.055788 + 0.952411 * Area - 0.065947 * NumberOfRooms $$"
   ]
  },
  {
   "cell_type": "markdown",
   "metadata": {},
   "source": [
    "## Relative significance of the descriptive features (Area, Number Of Rooms) on the Price"
   ]
  },
  {
   "cell_type": "markdown",
   "metadata": {},
   "source": [
    "In the following lines, we assessed the importance of each estimators. The weights of the estimators indicate the effects of each one on the predictions made. Both sign and magnitude of the weights give us information about how the descriptive features affect the predictions. For example, the negative coefficient of the number of rooms, though small in magnitude, indicate with its negative sign that the price decreases slightly when this coefficient of the number of rooms increases. In the other hand, it seems that with a positive sign and a high magnitude the price of the house increases with respect to the area feature. \n",
    "\n",
    "However, it is tempting to infer the relative importance of the descriptive features based on the magnitudes of their weights. In fact, a more efficient way to draw some conclusions about the relative importance of the features in our model is to carry out a statistical significance test. \n",
    "\n",
    "We used a t-test for our linear regression model. \n",
    "\n",
    "<b>We tested the following null hypothesis:  feature did not have a significant impact on the model</b>. Thus, we computed the t-statistics and their associated p-values. "
   ]
  },
  {
   "cell_type": "code",
   "execution_count": 991,
   "metadata": {
    "collapsed": false
   },
   "outputs": [],
   "source": [
    "#computing p-value and t-statistic \n",
    "#computing standard error for overall model \n",
    "seo = np.sqrt(np.sum((linalg.predict(X1) - y1) ** 2, axis=0) / (X1.shape[0] - X1.shape[1]-1))\n",
    "\n",
    "# standard error for descriptive features\n",
    "sef = [seo / np.sqrt(np.sum((X1 - np.mean(X1,axis=0))**2,axis=0))]\n",
    "\n",
    "#compute t statistic \n",
    "t_stat = linalg.coef_ / sef\n",
    "\n",
    "#compute p-value\n",
    "p_value = 2 * (1 - stats.t.cdf(np.abs(t_stat), y1.shape[0] - X1.shape[1]-1))"
   ]
  },
  {
   "cell_type": "code",
   "execution_count": 992,
   "metadata": {
    "collapsed": false
   },
   "outputs": [
    {
     "data": {
      "text/html": [
       "<div>\n",
       "<table border=\"1\" class=\"dataframe\">\n",
       "  <thead>\n",
       "    <tr style=\"text-align: right;\">\n",
       "      <th></th>\n",
       "      <th>Features</th>\n",
       "      <th>Coefficient Estimate</th>\n",
       "      <th>Standard Error</th>\n",
       "      <th>t-statistic</th>\n",
       "      <th>p-value</th>\n",
       "    </tr>\n",
       "  </thead>\n",
       "  <tbody>\n",
       "    <tr>\n",
       "      <th>1</th>\n",
       "      <td>Area</td>\n",
       "      <td>0.952411</td>\n",
       "      <td>0.084832</td>\n",
       "      <td>11.226963</td>\n",
       "      <td>2.287059e-14</td>\n",
       "    </tr>\n",
       "    <tr>\n",
       "      <th>2</th>\n",
       "      <td>Number Of Rooms</td>\n",
       "      <td>-0.065947</td>\n",
       "      <td>0.097729</td>\n",
       "      <td>-0.674796</td>\n",
       "      <td>5.034176e-01</td>\n",
       "    </tr>\n",
       "    <tr>\n",
       "      <th>3</th>\n",
       "      <td>Price</td>\n",
       "      <td>NaN</td>\n",
       "      <td>NaN</td>\n",
       "      <td>NaN</td>\n",
       "      <td>NaN</td>\n",
       "    </tr>\n",
       "  </tbody>\n",
       "</table>\n",
       "</div>"
      ],
      "text/plain": [
       "           Features  Coefficient Estimate  Standard Error  t-statistic  \\\n",
       "1              Area              0.952411        0.084832    11.226963   \n",
       "2   Number Of Rooms             -0.065947        0.097729    -0.674796   \n",
       "3             Price                   NaN             NaN          NaN   \n",
       "\n",
       "        p-value  \n",
       "1  2.287059e-14  \n",
       "2  5.034176e-01  \n",
       "3           NaN  "
      ]
     },
     "execution_count": 992,
     "metadata": {},
     "output_type": "execute_result"
    }
   ],
   "source": [
    "coefdf = DataFrame(housesdf_norm.columns)\n",
    "coefdf.columns = [\"Features\"]\n",
    "coefdf[\"Coefficient Estimate\"] = Series(linalg.coef_)\n",
    "coefdf[\"Standard Error\"] = Series(np.squeeze(np.asfarray(sef).T,axis=1))\n",
    "coefdf[\"t-statistic\"] = Series(np.squeeze(np.asfarray(t_stat).T,axis=1))\n",
    "coefdf[\"p-value\"] = Series(np.squeeze(np.asfarray(p_value).T,axis=1))\n",
    "coefdf.ix[1:3,:]"
   ]
  },
  {
   "cell_type": "markdown",
   "metadata": {},
   "source": [
    "By looking in the statistical table for the t-test, we deduced that if the p-value is less than 0.05, which corresponds to a 95% confidence interval; we had to reject the null hypothesis and as a consequence, the descriptive feature has a significant impact on the target values of our model.\n",
    "\n",
    "Hence, by analysing the previous table we strongly infered that Area has a significant impact on the Price and the feature \"Number Of Rooms\" does not have a significant impact on the target value in our model. "
   ]
  },
  {
   "cell_type": "markdown",
   "metadata": {},
   "source": [
    "## Visualisation of our model in 3D"
   ]
  },
  {
   "cell_type": "code",
   "execution_count": 993,
   "metadata": {
    "collapsed": false
   },
   "outputs": [],
   "source": [
    "# extracting every column to make the 3D plot easier to plot \n",
    "area = X1[\"Area\"]\n",
    "nor = X1.ix[:,2]"
   ]
  },
  {
   "cell_type": "markdown",
   "metadata": {},
   "source": [
    "Here we plotted the data points in a 3D graph and the plane which equation is the previous model one's to visualise how well it fits the data points. "
   ]
  },
  {
   "cell_type": "code",
   "execution_count": 994,
   "metadata": {
    "collapsed": false
   },
   "outputs": [
    {
     "data": {
      "image/png": "[encoded data removed]",
      "text/plain": [
       "<matplotlib.figure.Figure at 0x7fb283ffce50>"
      ]
     },
     "metadata": {},
     "output_type": "display_data"
    }
   ],
   "source": [
    "fig1 = plt.figure(figsize=(12,8))\n",
    "ax1 = fig1.add_subplot(111, projection=\"3d\")\n",
    "ax1.scatter(np.array(area),np.array(nor),np.array(y1),c='r',marker='o')\n",
    "f1 = interceptskm +  coeffskm1 * area + coeffskm2 * nor\n",
    "ax1.plot(area, nor, f1, 'b', label='Predicted Price')\n",
    "#set initial rotation angle of the 3D plot\n",
    "ax1.view_init(azim=-60)\n",
    "ax1.set_xlabel(\"Area\")\n",
    "ax1.set_ylabel(\"Number Of Rooms\")\n",
    "ax1.set_zlabel(\"Prices\")\n",
    "plt.show()"
   ]
  },
  {
   "cell_type": "markdown",
   "metadata": {},
   "source": [
    "## Predicting prices with training and validation datasets"
   ]
  },
  {
   "cell_type": "markdown",
   "metadata": {},
   "source": [
    "In this last part, we wanted to verify with another method that the training process was realized correctly using the multivariate regression model, i.e. the appropriateness of using a linear model to fit our training points. We used the cross_validation.train_test_split method to get a training set for prediction and a testing set for validation for both feature and target values. "
   ]
  },
  {
   "cell_type": "code",
   "execution_count": 995,
   "metadata": {
    "collapsed": false
   },
   "outputs": [],
   "source": [
    "X_features = housesdf_norm.drop(\"Price\", 1)\n",
    "X_train, X_test, Y_train, Y_test = sklearn.cross_validation.train_test_split(X_features,y1)"
   ]
  },
  {
   "cell_type": "code",
   "execution_count": 996,
   "metadata": {
    "collapsed": false
   },
   "outputs": [
    {
     "data": {
      "text/plain": [
       "LinearRegression(copy_X=True, fit_intercept=True, n_jobs=1, normalize=False)"
      ]
     },
     "execution_count": 996,
     "metadata": {},
     "output_type": "execute_result"
    }
   ],
   "source": [
    "lineag3 = LinearRegression()\n",
    "lineag3.fit(X_train,Y_train)"
   ]
  },
  {
   "cell_type": "code",
   "execution_count": 997,
   "metadata": {
    "collapsed": true
   },
   "outputs": [],
   "source": [
    "#prediction method\n",
    "pred_train = lineag3.predict(X_train)\n",
    "pred_test = lineag3.predict(X_test)"
   ]
  },
  {
   "cell_type": "code",
   "execution_count": 998,
   "metadata": {
    "collapsed": false
   },
   "outputs": [
    {
     "name": "stdout",
     "output_type": "stream",
     "text": [
      "We want to fit a model X_train of the training set and compute the MSE with Y_train: 0.013351\n",
      "We want to fit a model X_test of the training set and compute the MSE with Y_test: 0.018671\n"
     ]
    }
   ],
   "source": [
    "# we want MSE\n",
    "print 'We want to fit a model X_train of the training set and compute the MSE with Y_train: %f' % np.mean((Y_train-pred_train)**2)\n",
    "print 'We want to fit a model X_test of the training set and compute the MSE with Y_test: %f' % np.mean((Y_test-pred_test)**2)"
   ]
  },
  {
   "cell_type": "markdown",
   "metadata": {},
   "source": [
    "The last step consisted in plotting the Residual plot, which shows residual on vertical axis and independant variables (price) on horizontal, with residual being defined as: \n",
    "\n",
    "$$ Residual = ObservedValue - FittedValue $$\n",
    "\n",
    "In actuality, if the points are randomly dispersed around the horizontal axis, then the linear regression model is appropriate for the data. And this is the case here, because the points are randomly scattered along 0.\n",
    "\n",
    "More explanations for choosing this method are explained at the following link: \n",
    "<a href=\"http://blog.minitab.com/blog/adventures-in-statistics/why-you-need-to-check-your-residual-plots-for-regression-analysis\">Why You Need to Check Your Residual Plots for Regression Analysis: Or, To Err is Human, To Err Randomly is Statistically Divine</a>"
   ]
  },
  {
   "cell_type": "code",
   "execution_count": 999,
   "metadata": {
    "collapsed": false
   },
   "outputs": [
    {
     "data": {
      "text/plain": [
       "<matplotlib.text.Text at 0x7fb288d58910>"
      ]
     },
     "execution_count": 999,
     "metadata": {},
     "output_type": "execute_result"
    },
    {
     "data": {
      "image/png": "[encoded data removed]",
      "text/plain": [
       "<matplotlib.figure.Figure at 0x7fb288130290>"
      ]
     },
     "metadata": {},
     "output_type": "display_data"
    }
   ],
   "source": [
    "training_set = plt.scatter(pred_train,(pred_train - Y_train),c='g',alpha=0.7)\n",
    "testing_set = plt.scatter(pred_test,(pred_test - Y_test),c='r',alpha=0.7)\n",
    "plt.hlines(y=0,xmin=-0.2,xmax=1.3)\n",
    "plt.legend((training_set,testing_set),('Training','Tests'),loc=\"lower right\")\n",
    "plt.title('Residual Plots')\n",
    "plt.xlabel(\"Price (Fitted values)\")\n",
    "plt.ylabel(\"Residuals\")\n"
   ]
  },
  {
   "cell_type": "markdown",
   "metadata": {},
   "source": [
    "Values are randomly scattered around y=0 so linear regrssion was the right model to use. "
   ]
  }
 ],
 "metadata": {
  "kernelspec": {
   "display_name": "Python 2",
   "language": "python",
   "name": "python2"
  },
  "language_info": {
   "codemirror_mode": {
    "name": "ipython",
    "version": 2
   },
   "file_extension": ".py",
   "mimetype": "text/x-python",
   "name": "python",
   "nbconvert_exporter": "python",
   "pygments_lexer": "ipython2",
   "version": "2.7.10"
  }
 },
 "nbformat": 4,
 "nbformat_minor": 0
}
